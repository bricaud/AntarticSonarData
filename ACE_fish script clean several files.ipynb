{
 "cells": [
  {
   "cell_type": "code",
   "execution_count": 1,
   "metadata": {},
   "outputs": [],
   "source": [
    "import pandas as pd\n",
    "import numpy as np\n",
    "import matplotlib.pyplot as plt\n",
    "import scipy as sp\n",
    "import scipy.signal"
   ]
  },
  {
   "cell_type": "markdown",
   "metadata": {},
   "source": [
    "## Data import\n",
    "We import the csv file.\n",
    "We are interested in the  Ping_index , Ping_date , Ping_time , Latitude,  Longitude , and the sv* columns.\n",
    "Each sv* column corresponds to a depth.\n",
    "The value for each cell is the logarithm of the intensity of the echo.(ratio of intensity)"
   ]
  },
  {
   "cell_type": "code",
   "execution_count": 2,
   "metadata": {},
   "outputs": [],
   "source": [
    "data_path = '/home/benjamin/Bureau/data jam days/Hackathlon data/'"
   ]
  },
  {
   "cell_type": "code",
   "execution_count": 3,
   "metadata": {},
   "outputs": [],
   "source": [
    "def load_data(filename):\n",
    "    df = pd.read_csv(filename)\n",
    "    del df['Distance_gps']\n",
    "    del df['Distance_vl']\n",
    "    del df['Ping_milliseconds']\n",
    "    del df['Depth_start']\n",
    "    del df['Depth_stop']\n",
    "    del df['Range_start']\n",
    "    del df['Range_stop']\n",
    "    del df['Sample_count']\n",
    "    data= np.array(df.iloc[:,5:]).transpose()\n",
    "    return data,df"
   ]
  },
  {
   "cell_type": "markdown",
   "metadata": {},
   "source": [
    "### Filtering"
   ]
  },
  {
   "cell_type": "code",
   "execution_count": 4,
   "metadata": {},
   "outputs": [],
   "source": [
    "# Code from Roland to filter some Sonar artefacts\n",
    "def binary_impulse(Sv, threshold=10):\n",
    "    '''\n",
    "    :param Sv: gridded Sv values (dB re 1m^-1)\n",
    "    :type  Sv: numpy.array\n",
    "    \n",
    "    :param threshold: threshold-value (dB re 1m^-1)\n",
    "    :type  threshold: float\n",
    "    \n",
    "    return:\n",
    "    :param mask: binary mask (0 - noise; 1 - signal)\n",
    "    :type  mask: 2D numpy.array\n",
    "\n",
    "    desc: generate threshold mask\n",
    "    \n",
    "    defined by RB\n",
    "    \n",
    "    status: test\n",
    "    \n",
    "    '''\n",
    "    \n",
    "    mask = np.ones(Sv.shape).astype(int)\n",
    "\n",
    "    samples,pings = Sv.shape\n",
    "\n",
    "    for sample in range(1, samples-1):\n",
    "        for ping in range(0, pings):\n",
    "            \n",
    "            a = Sv[sample-1, ping]\n",
    "            b = Sv[sample, ping]\n",
    "            c = Sv[sample+1, ping]\n",
    "\n",
    "            if (b - a > threshold) & (b - c > threshold):\n",
    "                mask[sample, ping] = 0\n",
    "\n",
    "    return mask"
   ]
  },
  {
   "cell_type": "code",
   "execution_count": 5,
   "metadata": {},
   "outputs": [],
   "source": [
    "def filter_data(data_matrix):\n",
    "    # The relevant data values for the krill are between -70 and -65\n",
    "    data2 =data_matrix.copy()\n",
    "    data2[data_matrix<-70] = -70\n",
    "    data2[data_matrix>-65] = -65\n",
    "    data2 = data2 + 70\n",
    "    # We apply a median filtering to get rid of the isolated peaks or lines (which are noise)\n",
    "    # Two steps\n",
    "    # A variant of the median filter implemented by Roland for lines\n",
    "    datafilt = binary_impulse(data2.transpose(), threshold=2)\n",
    "    datafilt = datafilt.transpose()*data2\n",
    "    # A standard median filter used in image processing\n",
    "    datafilt2 = sp.signal.medfilt(datafilt,kernel_size=3)\n",
    "    # try to get rid of the mean by line\n",
    "    data3 =datafilt2.copy()\n",
    "    data3 = data3 - np.mean(data3,1,keepdims=True)\n",
    "    # Gaussian filtering\n",
    "    from skimage.filters import gaussian\n",
    "    gauss_denoised = gaussian(data3,10)\n",
    "    # Compute a function to find the krill\n",
    "    signaldata = gauss_denoised[0:150,:]\n",
    "    sumsignal = np.sum(signaldata,0)-np.mean(np.sum(signaldata,0))\n",
    "    binary_signal = sumsignal.copy()\n",
    "    threshold = 11\n",
    "    binary_signal[sumsignal<threshold] = 0\n",
    "    binary_signal[sumsignal>threshold] = 100\n",
    "    return binary_signal"
   ]
  },
  {
   "cell_type": "code",
   "execution_count": 6,
   "metadata": {},
   "outputs": [],
   "source": [
    "def extract_info(binary_signal,df):\n",
    "    krill_list = []\n",
    "    krill_dic = {}\n",
    "    data_len = len(binary_signal)\n",
    "    for idx in range(data_len):\n",
    "        if binary_signal[idx] >0:\n",
    "            if idx==0 or binary_signal[idx-1] == 0:\n",
    "                # beginning of a krill detection\n",
    "                krill_layer_start = idx\n",
    "                # record latitude and longitude\n",
    "                krill_dic['latitude_start'] = df.iloc[idx,3]\n",
    "                krill_dic['longitude_start'] = df.iloc[idx,4]\n",
    "                krill_dic['date_start'] = df.iloc[idx,1]\n",
    "                krill_dic['time_start'] = df.iloc[idx,2]\n",
    "            if idx == data_len-1 or binary_signal[idx+1] == 0:\n",
    "                # end of krill detection\n",
    "                krill_layer_stop = idx\n",
    "                # record latitude and longitude\n",
    "                krill_dic['latitude_stop'] = df.iloc[idx,3]\n",
    "                krill_dic['longitude_stop'] = df.iloc[idx,4]\n",
    "                krill_dic['date_stop'] = df.iloc[idx,1]\n",
    "                krill_dic['time_stop'] = df.iloc[idx,2]\n",
    "                # store krill layer in list\n",
    "                krill_list.append(krill_dic)\n",
    "                krill_dic = {}\n",
    "                # Compute Krill depth\n",
    "                #if krill_layer_stop<data_len-1:\n",
    "                #    krill_layer = datafilt2[krill_layer_start:krill_layer_stop+1]\n",
    "                #else:\n",
    "                #    krill_layer = datafilt2[krill_layer_start:]\n",
    "                #min_depth,max_depth,mean_depth = krill_depth(krill_layer)\n",
    "    return krill_list"
   ]
  },
  {
   "cell_type": "code",
   "execution_count": 7,
   "metadata": {},
   "outputs": [
    {
     "name": "stdout",
     "output_type": "stream",
     "text": [
      "Loading data ...\n",
      "/home/benjamin/Bureau/data jam days/Hackathlon data/ACE_leg2_200khz-D20170215-T104632.sv.csv\n",
      "Filtering data...\n",
      "Extraction information...\n",
      "Number of Krill events: 23\n",
      "Loading data ...\n",
      "/home/benjamin/Bureau/data jam days/Hackathlon data/ACE_leg2_200khz-D20170214-T095411.sv.csv\n",
      "Filtering data...\n",
      "Extraction information...\n",
      "Number of Krill events: 19\n",
      "Loading data ...\n",
      "/home/benjamin/Bureau/data jam days/Hackathlon data/ACE_leg2_200khz-D20170214-T202310.sv.csv\n",
      "Filtering data...\n",
      "Extraction information...\n",
      "Number of Krill events: 12\n",
      "Loading data ...\n",
      "/home/benjamin/Bureau/data jam days/Hackathlon data/ACE_leg2_200khz-D20170215-T174955.sv.csv\n",
      "Filtering data...\n",
      "Extraction information...\n",
      "Number of Krill events: 31\n",
      "Loading data ...\n",
      "/home/benjamin/Bureau/data jam days/Hackathlon data/ACE_leg2_200khz-D20170215-T053628.sv.csv\n",
      "Filtering data...\n",
      "Extraction information...\n",
      "Number of Krill events: 5\n",
      "Loading data ...\n",
      "/home/benjamin/Bureau/data jam days/Hackathlon data/ACE_leg2_200khz-D20170214-T235208.sv.csv\n",
      "Filtering data...\n",
      "Extraction information...\n",
      "Number of Krill events: 12\n",
      "Loading data ...\n",
      "/home/benjamin/Bureau/data jam days/Hackathlon data/ACE_leg2_200khz-D20170215-T065525.sv.csv\n",
      "Filtering data...\n"
     ]
    },
    {
     "name": "stderr",
     "output_type": "stream",
     "text": [
      "/usr/local/lib/python3.5/dist-packages/ipykernel_launcher.py:4: RuntimeWarning: invalid value encountered in less\n",
      "  after removing the cwd from sys.path.\n",
      "/usr/local/lib/python3.5/dist-packages/ipykernel_launcher.py:5: RuntimeWarning: invalid value encountered in greater\n",
      "  \"\"\"\n"
     ]
    },
    {
     "name": "stdout",
     "output_type": "stream",
     "text": [
      "Extraction information...\n",
      "Number of Krill events: 1\n",
      "Loading data ...\n",
      "/home/benjamin/Bureau/data jam days/Hackathlon data/ACE_leg2_200khz-D20170215-T074727.sv.csv\n",
      "Filtering data...\n",
      "Extraction information...\n",
      "Number of Krill events: 4\n",
      "Loading data ...\n",
      "/home/benjamin/Bureau/data jam days/Hackathlon data/ACE_leg2_200khz-D20170215-T163906.sv.csv\n",
      "Filtering data...\n",
      "Extraction information...\n",
      "Number of Krill events: 13\n",
      "Loading data ...\n",
      "/home/benjamin/Bureau/data jam days/Hackathlon data/ACE_leg2_200khz-D20170214-T132329.sv.csv\n",
      "Filtering data...\n",
      "Extraction information...\n",
      "Number of Krill events: 40\n",
      "Loading data ...\n",
      "/home/benjamin/Bureau/data jam days/Hackathlon data/ACE_leg2_200khz-D20170214-T062448.sv.csv\n",
      "Filtering data...\n",
      "Extraction information...\n",
      "Number of Krill events: 30\n",
      "Loading data ...\n",
      "/home/benjamin/Bureau/data jam days/Hackathlon data/ACE_leg2_200khz-D20170214-T165300.sv.csv\n",
      "Filtering data...\n",
      "Extraction information...\n",
      "Number of Krill events: 31\n",
      "Loading data ...\n",
      "/home/benjamin/Bureau/data jam days/Hackathlon data/ACE_leg2_200khz-D20170214-T025444.sv.csv\n",
      "Filtering data...\n",
      "Extraction information...\n",
      "Number of Krill events: 22\n",
      "Loading data ...\n",
      "/home/benjamin/Bureau/data jam days/Hackathlon data/ACEleg2_200khz_-D20170215-T210616.sv.csv\n",
      "Filtering data...\n",
      "Extraction information...\n",
      "Number of Krill events: 4\n",
      "Loading data ...\n",
      "/home/benjamin/Bureau/data jam days/Hackathlon data/ACE_leg2_200khz-D20170215-T031827.sv.csv\n",
      "Filtering data...\n",
      "Extraction information...\n",
      "Number of Krill events: 10\n",
      "Loading data ...\n",
      "/home/benjamin/Bureau/data jam days/Hackathlon data/ACE_leg2_200khz-D20170215-T134447.sv.csv\n",
      "Filtering data...\n",
      "Extraction information...\n",
      "Number of Krill events: 21\n"
     ]
    }
   ],
   "source": [
    "import glob\n",
    "global_krill_list = []\n",
    "for filename in glob.iglob(data_path+'*.csv'):\n",
    "    print('Loading data ...')\n",
    "    print('%s' % filename)    \n",
    "    data,df = load_data(filename)\n",
    "    print('Filtering data...')\n",
    "    binary_signal = filter_data(data)\n",
    "    print('Extraction information...')\n",
    "    krill_list = extract_info(binary_signal,df)\n",
    "    print('Number of Krill events:',len(krill_list))\n",
    "    global_krill_list += krill_list"
   ]
  },
  {
   "cell_type": "code",
   "execution_count": 8,
   "metadata": {},
   "outputs": [
    {
     "data": {
      "text/plain": [
       "278"
      ]
     },
     "execution_count": 8,
     "metadata": {},
     "output_type": "execute_result"
    }
   ],
   "source": [
    "len(global_krill_list)"
   ]
  },
  {
   "cell_type": "code",
   "execution_count": 9,
   "metadata": {},
   "outputs": [],
   "source": [
    "import json\n",
    "with open('krill_data.json', 'w', encoding='utf-8') as f:\n",
    "    f.write(json.dumps(global_krill_list, ensure_ascii=False))"
   ]
  },
  {
   "cell_type": "code",
   "execution_count": null,
   "metadata": {},
   "outputs": [],
   "source": [
    "def krill_depth(array):\n",
    "    # Compute the depth of the krill swarm\n",
    "    depth_function = np.sum(array,1)"
   ]
  },
  {
   "cell_type": "code",
   "execution_count": null,
   "metadata": {},
   "outputs": [],
   "source": []
  }
 ],
 "metadata": {
  "kernelspec": {
   "display_name": "Python 3",
   "language": "python",
   "name": "python3"
  },
  "language_info": {
   "codemirror_mode": {
    "name": "ipython",
    "version": 3
   },
   "file_extension": ".py",
   "mimetype": "text/x-python",
   "name": "python",
   "nbconvert_exporter": "python",
   "pygments_lexer": "ipython3",
   "version": "3.5.3"
  }
 },
 "nbformat": 4,
 "nbformat_minor": 2
}
